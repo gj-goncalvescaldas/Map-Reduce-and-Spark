{
  "nbformat": 4,
  "nbformat_minor": 0,
  "metadata": {
    "colab": {
      "provenance": []
    },
    "kernelspec": {
      "name": "python3",
      "display_name": "Python 3"
    },
    "language_info": {
      "name": "python"
    }
  },
  "cells": [
    {
      "cell_type": "code",
      "source": [
        "# install java\n",
        "!apt-get install openjdk-8-jdk-headless -qq > /dev/null\n",
        "\n",
        "# install spark (change the version number if needed)\n",
        "!wget -q https://archive.apache.org/dist/spark/spark-3.5.1/spark-3.5.1-bin-hadoop3.tgz\n",
        "\n",
        "# unzip the spark file to the current folder\n",
        "!tar xf spark-3.5.1-bin-hadoop3.tgz\n",
        "\n",
        "# set your spark folder to your system path environment\n",
        "import os\n",
        "\n",
        "os.environ[\"JAVA_HOME\"] = \"/usr/lib/jvm/java-8-openjdk-amd64\"\n",
        "os.environ[\"SPARK_HOME\"] = \"/content/spark-3.5.1-bin-hadoop3\"\n",
        "\n",
        "# install findspark using pip\n",
        "!pip install -q findspark\n",
        "\n",
        "# install pyspark\n",
        "import findspark\n",
        "findspark.init()\n",
        "from pyspark.sql import SparkSession\n",
        "\n",
        " #Acess to google drive\n",
        "from google.colab import drive\n",
        "drive.mount('/content/drive')\n",
        "import os\n",
        "os.chdir('/content/drive/My Drive/Colab Notebooks')\n",
        "os.listdir()"
      ],
      "metadata": {
        "colab": {
          "base_uri": "https://localhost:8080/"
        },
        "id": "IaHd6O41mxP3",
        "outputId": "bf80babf-0a57-4bd6-93d8-07e435b9f95d"
      },
      "execution_count": 5,
      "outputs": [
        {
          "output_type": "stream",
          "name": "stdout",
          "text": [
            "Mounted at /content/drive\n"
          ]
        },
        {
          "output_type": "execute_result",
          "data": {
            "text/plain": [
              "['S07L02-Gustvao.ipynb',\n",
              " 'Untitled0.ipynb',\n",
              " 'S12L01.ipynb',\n",
              " 'S12L02.ipynb',\n",
              " 'Machine_Learning_Lab03_Action_Learning_Notebook',\n",
              " 'S12L03.ipynb',\n",
              " 'S12L04.ipynb',\n",
              " 'Untitled1.ipynb',\n",
              " 'Cópia de Spark Setup and Basic Data Processing in PySpark.ipynb',\n",
              " 'Spark Setup and Basic Data Processing in PySpark.ipynb',\n",
              " 'DATA',\n",
              " 'Untitled2.ipynb']"
            ]
          },
          "metadata": {},
          "execution_count": 5
        }
      ]
    },
    {
      "cell_type": "code",
      "execution_count": 6,
      "metadata": {
        "id": "7f1dh2qUmCWB"
      },
      "outputs": [],
      "source": [
        "spark = SparkSession.builder.appName(\"Análise de Ventas de Zapatos\").master(\"local[*]\").getOrCreate()"
      ]
    },
    {
      "cell_type": "markdown",
      "source": [
        "Explanation:\n",
        "\n",
        "*   This cell initializes a Spark session named \"Análise de Ventas de Zapatos\".\n",
        "*   master(\"local[*]\") specifies that Spark should run locally using all available cores.\n",
        "\n"
      ],
      "metadata": {
        "id": "NRzb8YSVFX8q"
      }
    },
    {
      "cell_type": "code",
      "source": [
        "df = spark.read.csv('/content/drive/My Drive/Colab Notebooks/DATA/ventas_zapatos.csv', header=True, inferSchema=True, sep=';')\n",
        "df.printSchema()"
      ],
      "metadata": {
        "colab": {
          "base_uri": "https://localhost:8080/"
        },
        "id": "pf_RijLymuzD",
        "outputId": "dd6456ad-b87d-4c8b-9853-45f6ca92bf7a"
      },
      "execution_count": 10,
      "outputs": [
        {
          "output_type": "stream",
          "name": "stdout",
          "text": [
            "root\n",
            " |-- Fecha: string (nullable = true)\n",
            " |-- id_cliente: string (nullable = true)\n",
            " |-- nombre: string (nullable = true)\n",
            " |-- apellido_1: string (nullable = true)\n",
            " |-- apellido_2: string (nullable = true)\n",
            " |-- id_prod: integer (nullable = true)\n",
            " |-- nombre_prod: string (nullable = true)\n",
            " |-- material_prod: string (nullable = true)\n",
            " |-- categoria_prod: string (nullable = true)\n",
            " |-- precio: integer (nullable = true)\n",
            "\n"
          ]
        }
      ]
    },
    {
      "cell_type": "markdown",
      "source": [
        "Explanation:\n",
        "\n",
        "*   A CSV file named ventas_zapatos.csv is read from Google Drive into a DataFrame df.\n",
        "*   header=True specifies that the CSV file has a header row.\n",
        "*   inferSchema=True infers the data types of the columns.\n",
        "*   sep=';' specifies that the CSV uses semicolons as separators.\n",
        "*   printSchema() displays the schema of the DataFrame.\n",
        "\n",
        "\n",
        "\n",
        "\n"
      ],
      "metadata": {
        "id": "FK-X6gwmGIfI"
      }
    },
    {
      "cell_type": "code",
      "source": [
        "df.createOrReplaceTempView(\"ventas\")"
      ],
      "metadata": {
        "id": "P17lkvJ3o-om"
      },
      "execution_count": 11,
      "outputs": []
    },
    {
      "cell_type": "markdown",
      "source": [
        "Explanation:\n",
        "\n",
        "*   This creates a temporary view called \"ventas\" from the DataFrame df, allowing SQL queries to be run against it.\n",
        "\n",
        "\n"
      ],
      "metadata": {
        "id": "_i0W3tmeGflQ"
      }
    },
    {
      "cell_type": "code",
      "source": [
        "spark.sql(\"SELECT * FROM VENTAS\").show()"
      ],
      "metadata": {
        "colab": {
          "base_uri": "https://localhost:8080/"
        },
        "id": "y9eODry3zPkL",
        "outputId": "0936ca6d-d349-4a11-9419-399893a57ba2"
      },
      "execution_count": 12,
      "outputs": [
        {
          "output_type": "stream",
          "name": "stdout",
          "text": [
            "+----------------+---------------+----------+----------+----------+-------+--------------------+-------------+----------------+------+\n",
            "|           Fecha|     id_cliente|    nombre|apellido_1|apellido_2|id_prod|         nombre_prod|material_prod|  categoria_prod|precio|\n",
            "+----------------+---------------+----------+----------+----------+-------+--------------------+-------------+----------------+------+\n",
            "| 20/04/2019 4:19|995052178892353|   Fabiola|    Méndez|     Ramos| 562972|   Pelusa mercenario|       Gamuza|      Zapatillas|    75|\n",
            "| 10/02/2019 3:32|528848914440944|   Basileo|    Alonso|   Esteban| 949966| Reforma capitalista|         Goma|Zapatos de tacón|    50|\n",
            "|08/05/2019 19:11| 53146869174343|    Míriam|  Martínez|   Esteban| 432964|    Zoca coxofemoral|       Gamuza|Zapato de vestir|    70|\n",
            "|22/04/2019 15:24| 95327509355920|    Teresa|   Garrido|    Castro| 842352|Número Primo cham...|         Goma|         Botines|    50|\n",
            "|02/01/2019 10:01|560935930327708|   Natalia|    Vargas| Rodríguez| 816218|     Mejora burkinés|        Cuero|      Zapatillas|    85|\n",
            "|15/01/2019 15:20|518843488250634|      José|    Ibáñez|  González| 612297|    Retín dehiscente|        Cuero|         Botines|    90|\n",
            "|03/05/2019 23:46|268300738882486|  Verónica|      Ruiz|   Garrido| 227744|      Ñinga sediento|       Gamuza|Zapato de vestir|    65|\n",
            "|26/01/2019 13:00|209058654202699|   Miqueas|   Montoro|    Martín| 890119|Predecesor cincuenta|       Gamuza|Zapatos de tacón|    75|\n",
            "| 28/04/2019 5:44|956967795276369|  Casimiro|   Vázquez|    Flores| 968238|Fungistático peri...|         Tela|      Zapatillas|    40|\n",
            "| 23/04/2019 3:28|688099529240320| Natividad|     Parra|    Campos| 287558|Rebullicio absolv...|       Gamuza|         Botines|    70|\n",
            "| 03/04/2019 1:35| 65850855751971|   Teodora|       Gil|   Aguilar| 949966| Reforma capitalista|         Goma|Zapatos de tacón|    50|\n",
            "|17/04/2019 14:25|552395408874921|   Cecilia|   Serrano|    Pastor| 284282|      Viruta asesado|         Tela|      Zapatillas|    40|\n",
            "| 10/04/2019 0:54| 28534471721604|     Nuria| Domínguez|    Lozano| 144844|Excrecencia arbol...|       Gamuza|         Botines|    60|\n",
            "|29/04/2019 21:50|296454476859060|  Josefina|    Santos|     Muñoz| 770874|   Náufrago tarateño|        Cuero| Zapatos de agua|    90|\n",
            "| 25/04/2019 1:08|637401250128217|   Eusebio|   Sánchez|     Núñez| 463228|  Pésame contractual|       Gamuza|      Zapatillas|    70|\n",
            "|01/02/2019 23:26|745520267958410|   Edmundo|    Pastor|     Soler| 724303|  Cobardón camboyano|   Sintéticos|      Zapatillas|    35|\n",
            "| 09/02/2019 6:12|248544781588493|     Celso|   Serrano|   Jiménez| 910881|Sucesión Converge...|       Gamuza|Zapatos de tacón|    65|\n",
            "| 25/01/2019 3:05|412564651502106|Segismundo|      Sanz|  González| 816218|     Mejora burkinés|        Cuero|      Zapatillas|    85|\n",
            "|11/05/2019 19:46|874761004374001|    Lázaro|   Montero|     Arias| 294040| Brazalete resbaloso|         Goma|Zapato de vestir|    40|\n",
            "|04/05/2019 12:25|574629118992248|    Ángela|   Vázquez|     Gómez| 693737|Beritense intratable|         Goma|         Botines|    55|\n",
            "+----------------+---------------+----------+----------+----------+-------+--------------------+-------------+----------------+------+\n",
            "only showing top 20 rows\n",
            "\n"
          ]
        }
      ]
    },
    {
      "cell_type": "code",
      "source": [
        "from pyspark.sql.functions import to_timestamp\n",
        "df = df.withColumn(\"fecha\", to_timestamp(df[\"fecha\"], \"dd/MM/yyyy H:mm\"))\n",
        "df.createOrReplaceTempView(\"ventas\")\n",
        "spark.sql(\"SELECT * FROM VENTAS LIMIT 10\").show()\n",
        "df.printSchema()"
      ],
      "metadata": {
        "colab": {
          "base_uri": "https://localhost:8080/"
        },
        "id": "rtVpZO3azfXX",
        "outputId": "6b84076b-06db-41f0-c327-176fc378f321"
      },
      "execution_count": 15,
      "outputs": [
        {
          "output_type": "stream",
          "name": "stdout",
          "text": [
            "+-------------------+---------------+---------+----------+----------+-------+--------------------+-------------+----------------+------+\n",
            "|              fecha|     id_cliente|   nombre|apellido_1|apellido_2|id_prod|         nombre_prod|material_prod|  categoria_prod|precio|\n",
            "+-------------------+---------------+---------+----------+----------+-------+--------------------+-------------+----------------+------+\n",
            "|2019-04-20 04:19:00|995052178892353|  Fabiola|    Méndez|     Ramos| 562972|   Pelusa mercenario|       Gamuza|      Zapatillas|    75|\n",
            "|2019-02-10 03:32:00|528848914440944|  Basileo|    Alonso|   Esteban| 949966| Reforma capitalista|         Goma|Zapatos de tacón|    50|\n",
            "|2019-05-08 19:11:00| 53146869174343|   Míriam|  Martínez|   Esteban| 432964|    Zoca coxofemoral|       Gamuza|Zapato de vestir|    70|\n",
            "|2019-04-22 15:24:00| 95327509355920|   Teresa|   Garrido|    Castro| 842352|Número Primo cham...|         Goma|         Botines|    50|\n",
            "|2019-01-02 10:01:00|560935930327708|  Natalia|    Vargas| Rodríguez| 816218|     Mejora burkinés|        Cuero|      Zapatillas|    85|\n",
            "|2019-01-15 15:20:00|518843488250634|     José|    Ibáñez|  González| 612297|    Retín dehiscente|        Cuero|         Botines|    90|\n",
            "|2019-05-03 23:46:00|268300738882486| Verónica|      Ruiz|   Garrido| 227744|      Ñinga sediento|       Gamuza|Zapato de vestir|    65|\n",
            "|2019-01-26 13:00:00|209058654202699|  Miqueas|   Montoro|    Martín| 890119|Predecesor cincuenta|       Gamuza|Zapatos de tacón|    75|\n",
            "|2019-04-28 05:44:00|956967795276369| Casimiro|   Vázquez|    Flores| 968238|Fungistático peri...|         Tela|      Zapatillas|    40|\n",
            "|2019-04-23 03:28:00|688099529240320|Natividad|     Parra|    Campos| 287558|Rebullicio absolv...|       Gamuza|         Botines|    70|\n",
            "+-------------------+---------------+---------+----------+----------+-------+--------------------+-------------+----------------+------+\n",
            "\n",
            "root\n",
            " |-- fecha: timestamp (nullable = true)\n",
            " |-- id_cliente: string (nullable = true)\n",
            " |-- nombre: string (nullable = true)\n",
            " |-- apellido_1: string (nullable = true)\n",
            " |-- apellido_2: string (nullable = true)\n",
            " |-- id_prod: integer (nullable = true)\n",
            " |-- nombre_prod: string (nullable = true)\n",
            " |-- material_prod: string (nullable = true)\n",
            " |-- categoria_prod: string (nullable = true)\n",
            " |-- precio: integer (nullable = true)\n",
            "\n"
          ]
        }
      ]
    },
    {
      "cell_type": "markdown",
      "source": [
        "Explanation:\n",
        "\n",
        "*   The to_timestamp function is imported.\n",
        "*   The \"fecha\" column is converted to a timestamp format.\n",
        "*   The temporary view \"ventas\" is recreated with the updated DataFrame.\n",
        "*   A SQL query selects the first 10 rows from the \"ventas\" view and displays them.\n",
        "*   printSchema() shows the updated schema of the DataFrame.\n",
        "\n",
        "\n",
        "\n"
      ],
      "metadata": {
        "id": "CHJVpYmPGn6Q"
      }
    },
    {
      "cell_type": "code",
      "source": [
        "#Crear un DataMart\n",
        "categoria_prod = spark.sql(\"SELECT DISTINCT material_prod FROM VENTAS\")\n",
        "materiales.createOrReplaceTempView(\"materiales\")\n",
        "spark.sql(\"SELECT row_number () over (order by material_prod) as id, material_prod as nombre from materiales\").createOrReplaceTempView(\"materiales\")\n",
        "spark.sql(\"SELECT * FROM MATERIALES\").show()"
      ],
      "metadata": {
        "colab": {
          "base_uri": "https://localhost:8080/"
        },
        "id": "r9gDum9Cz8es",
        "outputId": "960a82ca-3d0c-40a5-fc76-a6ded5f06b77"
      },
      "execution_count": 27,
      "outputs": [
        {
          "output_type": "stream",
          "name": "stdout",
          "text": [
            "+---+----------+\n",
            "| id|    nombre|\n",
            "+---+----------+\n",
            "|  1|     Cuero|\n",
            "|  2|    Gamuza|\n",
            "|  3|      Goma|\n",
            "|  4|Sintéticos|\n",
            "|  5|      Tela|\n",
            "+---+----------+\n",
            "\n"
          ]
        }
      ]
    },
    {
      "cell_type": "markdown",
      "source": [
        "Explanation:\n",
        "\n",
        "*   A SQL query selects distinct material_prod values from the \"ventas\" view, creating a DataFrame categoria_prod.\n",
        "*   A temporary view \"materiales\" is created from categoria_prod.\n",
        "*   The temporary view \"ventas\" is recreated with the updated DataFrame.\n",
        "*   A new SQL query assigns a unique ID to each material_prod and renames it to nombre, updating the \"materiales\" view.\n",
        "*   The contents of the \"materiales\" view are displayed.\n"
      ],
      "metadata": {
        "id": "hj-zJmN4G6iY"
      }
    },
    {
      "cell_type": "code",
      "source": [
        "categoria = spark.sql(\"SELECT DISTINCT categoria_prod FROM VENTAS\")\n",
        "categoria.createOrReplaceTempView(\"categoria\")\n",
        "spark.sql(\"SELECT row_number () over (order by categoria_prod) as id, categoria_prod as nombre from categoria\").createOrReplaceTempView(\"categoria\")\n",
        "spark.sql(\"SELECT * FROM CATEGORIA\").show()"
      ],
      "metadata": {
        "colab": {
          "base_uri": "https://localhost:8080/"
        },
        "id": "IRt8jvKl0nuD",
        "outputId": "cd2adfad-22c5-40a4-8191-42d8cfceada4"
      },
      "execution_count": 36,
      "outputs": [
        {
          "output_type": "stream",
          "name": "stdout",
          "text": [
            "+---+----------------+\n",
            "| id|          nombre|\n",
            "+---+----------------+\n",
            "|  1|         Botines|\n",
            "|  2|      Zapatillas|\n",
            "|  3|Zapato de vestir|\n",
            "|  4| Zapatos de agua|\n",
            "|  5|Zapatos de tacón|\n",
            "+---+----------------+\n",
            "\n"
          ]
        }
      ]
    },
    {
      "cell_type": "markdown",
      "source": [
        "Explanation:\n",
        "\n",
        "*   A SQL query selects distinct categoria_prod values from the \"ventas\" view, creating a DataFrame categoria.\n",
        "*   A temporary view \"categoria\" is created from categoria.\n",
        "*   A new SQL query assigns a unique ID to each categoria_prod and renames it to nombre, updating the \"categoria\" view.\n",
        "*   The contents of the \"categoria\" view are displayed."
      ],
      "metadata": {
        "id": "Y756unZoHVMY"
      }
    },
    {
      "cell_type": "code",
      "source": [
        "productos = spark.sql (\"\"\"\n",
        "    select distinct id_prod as id,  nombre_prod as nombre, m.id as id_material, c.id as id_categoria, precio\n",
        "    from ventas\n",
        "    join materiales m on m.nombre = ventas.material_prod\n",
        "    join categoria c on c.nombre = ventas.categoria_prod\n",
        "    order by id\n",
        "\"\"\")\n",
        "productos.createOrReplaceTempView(\"productos\")\n",
        "productos.show()"
      ],
      "metadata": {
        "colab": {
          "base_uri": "https://localhost:8080/"
        },
        "id": "2SUs-xvH2ymR",
        "outputId": "e85a7d69-172f-447b-97b2-1f047ff603d2"
      },
      "execution_count": 46,
      "outputs": [
        {
          "output_type": "stream",
          "name": "stdout",
          "text": [
            "+------+--------------------+-----------+------------+------+\n",
            "|    id|              nombre|id_material|id_categoria|precio|\n",
            "+------+--------------------+-----------+------------+------+\n",
            "|  2809| Ablación viñamarino|          5|           1|    40|\n",
            "|  4077|      Tribu agonista|          5|           4|    45|\n",
            "|  6189|    Bóiler ciudadana|          2|           5|    65|\n",
            "|  9171|Cuatrillón partur...|          2|           2|    75|\n",
            "| 10902|  Xacena tetrasílabo|          3|           1|    45|\n",
            "| 29075|  Repentista chicoco|          1|           5|    85|\n",
            "| 34388|     Argucia diestro|          2|           2|    65|\n",
            "| 36922|    Criancia íntegro|          5|           5|    40|\n",
            "| 39377|    Complice acetoso|          5|           5|    45|\n",
            "| 52175|  Carameleo leguleyo|          1|           2|    90|\n",
            "| 58759|     Horca dilatable|          2|           4|    65|\n",
            "| 70231|  Bizantino parlante|          5|           5|    35|\n",
            "| 71840|Materia Inorgánic...|          2|           4|    65|\n",
            "| 75896|   Gefirofobia guaco|          2|           4|    70|\n",
            "| 81907|Tangencia cardena...|          3|           1|    40|\n",
            "| 84156|Condimento misionado|          3|           2|    50|\n",
            "| 86091|    Vena partalobero|          2|           1|    65|\n",
            "|100066|      Autora binario|          2|           1|    75|\n",
            "|104454|Fecha Juliana lep...|          5|           5|    30|\n",
            "|104964|      Mensura casado|          2|           1|    75|\n",
            "+------+--------------------+-----------+------------+------+\n",
            "only showing top 20 rows\n",
            "\n"
          ]
        }
      ]
    },
    {
      "cell_type": "code",
      "source": [
        "ventas_final = spark.sql(\"\"\"\n",
        "          SELECT date_part ('year', Fecha) as anyo, date_part('months', Fecha) as mes, id_prod, sum(precio) as importe\n",
        "          from ventas\n",
        "          group by anyo, mes, id_prod\n",
        "          order by anyo, mes\n",
        "          \"\"\")\n",
        "ventas_final.createOrReplaceTempView(\"ventas_final\")\n",
        "ventas_final.show()"
      ],
      "metadata": {
        "colab": {
          "base_uri": "https://localhost:8080/"
        },
        "id": "Mj9eUQSx65zG",
        "outputId": "761170f6-d89e-4386-c5be-a3af6c0e08b0"
      },
      "execution_count": 59,
      "outputs": [
        {
          "output_type": "stream",
          "name": "stdout",
          "text": [
            "+----+---+-------+-------+\n",
            "|anyo|mes|id_prod|importe|\n",
            "+----+---+-------+-------+\n",
            "|2018| 12| 953060|     30|\n",
            "|2019|  1|  86091|  11180|\n",
            "|2019|  1| 977219|   6840|\n",
            "|2019|  1| 104454|   5460|\n",
            "|2019|  1| 308114|  11025|\n",
            "|2019|  1| 844797|  10650|\n",
            "|2019|  1| 619589|  14915|\n",
            "|2019|  1| 612297|  13410|\n",
            "|2019|  1|   6189|  10465|\n",
            "|2019|  1| 753623|   7875|\n",
            "|2019|  1| 432964|  11200|\n",
            "|2019|  1| 904052|   5560|\n",
            "|2019|  1| 144628|   5635|\n",
            "|2019|  1| 883449|  11700|\n",
            "|2019|  1| 851349|   5460|\n",
            "|2019|  1| 371293|   5775|\n",
            "|2019|  1| 320893|   3650|\n",
            "|2019|  1| 356608|  12750|\n",
            "|2019|  1|  34388|   9620|\n",
            "|2019|  1| 414511|   6880|\n",
            "+----+---+-------+-------+\n",
            "only showing top 20 rows\n",
            "\n"
          ]
        }
      ]
    },
    {
      "cell_type": "code",
      "source": [
        "spark.sql(\"SELECT date_part ('year', Fecha) as anyo, date_part('months', Fecha) as mes from ventas order by fecha\").show()"
      ],
      "metadata": {
        "colab": {
          "base_uri": "https://localhost:8080/"
        },
        "id": "dkQDqLhP4Lvl",
        "outputId": "391ef18c-ce8e-44cd-8b18-e948402304fd"
      },
      "execution_count": 51,
      "outputs": [
        {
          "output_type": "stream",
          "name": "stdout",
          "text": [
            "+----+---+\n",
            "|anyo|mes|\n",
            "+----+---+\n",
            "|2018| 12|\n",
            "|2019|  1|\n",
            "|2019|  1|\n",
            "|2019|  1|\n",
            "|2019|  1|\n",
            "|2019|  1|\n",
            "|2019|  1|\n",
            "|2019|  1|\n",
            "|2019|  1|\n",
            "|2019|  1|\n",
            "|2019|  1|\n",
            "|2019|  1|\n",
            "|2019|  1|\n",
            "|2019|  1|\n",
            "|2019|  1|\n",
            "|2019|  1|\n",
            "|2019|  1|\n",
            "|2019|  1|\n",
            "|2019|  1|\n",
            "|2019|  1|\n",
            "+----+---+\n",
            "only showing top 20 rows\n",
            "\n"
          ]
        }
      ]
    },
    {
      "cell_type": "code",
      "source": [
        "productos_final = spark.sql (\"select * from productos\")\n",
        "materiales_final = spark.sql (\"select * from materiales\")\n",
        "categoria_final = spark.sql (\"select * from categoria\")\n"
      ],
      "metadata": {
        "id": "fwg3zxof6hgF"
      },
      "execution_count": 60,
      "outputs": []
    },
    {
      "cell_type": "code",
      "source": [
        "ventas_final.repartition(1). write.format(\"com.databricks.spark.csv\").option(\"header\", \"true\").option(\"sep\", \";\").mode(\"overwrite\").save(\"/content/drive/My Drive/Colab Notebooks/DATA/datamart_ventas.csv\")\n",
        "productos_final.repartition(1). write.format(\"com.databricks.spark.csv\").option(\"header\", \"true\").option(\"sep\", \";\").mode(\"overwrite\").save(\"/content/drive/My Drive/Colab Notebooks/DATA/datamart_productos.csv\")\n",
        "materiales_final.repartition(1). write.format(\"com.databricks.spark.csv\").option(\"header\", \"true\").option(\"sep\", \";\").mode(\"overwrite\").save(\"/content/drive/My Drive/Colab Notebooks/DATA/datamart_materiales.csv\")\n",
        "categoria_final.repartition(1). write.format(\"com.databricks.spark.csv\").option(\"header\", \"true\").option(\"sep\", \";\").mode(\"overwrite\").save(\"/content/drive/My Drive/Colab Notebooks/DATA/datamart_categoria.csv\")"
      ],
      "metadata": {
        "id": "WrRGF6sr9L-5"
      },
      "execution_count": 62,
      "outputs": []
    },
    {
      "cell_type": "code",
      "source": [
        "#ventas\n",
        "spark.read.csv('/content/drive/My Drive/Colab Notebooks/DATA/datamart_ventas.csv', header=True, inferSchema=True, sep=';').createOrReplaceTempView(\"datamart_ventas\")\n",
        "spark.sql(\"SELECT * FROM datamart_ventas order by id_prod  limit 5 \").show()\n",
        "#productos\n",
        "spark.read.csv('/content/drive/My Drive/Colab Notebooks/DATA/datamart_productos.csv', header=True, inferSchema=True, sep=';').createOrReplaceTempView(\"datamart_productos\")\n",
        "spark.sql(\"SELECT * FROM datamart_productos order by id limit 5 \").show()\n",
        "#materiales\n",
        "spark.read.csv('/content/drive/My Drive/Colab Notebooks/DATA/datamart_materiales.csv', header=True, inferSchema=True, sep=';').createOrReplaceTempView(\"datamart_materiales\")\n",
        "spark.sql(\"SELECT * FROM datamart_materiales limit 5\").show()\n",
        "#categoria\n",
        "spark.read.csv('/content/drive/My Drive/Colab Notebooks/DATA/datamart_categoria.csv', header=True, inferSchema=True, sep=';').createOrReplaceTempView(\"datamart_categoria\")\n",
        "spark.sql(\"SELECT * FROM datamart_categoria limit 5\").show()"
      ],
      "metadata": {
        "colab": {
          "base_uri": "https://localhost:8080/"
        },
        "id": "KXvH0XdL9j2W",
        "outputId": "e54bedeb-9605-4669-ded1-0a8db97f74cc"
      },
      "execution_count": 77,
      "outputs": [
        {
          "output_type": "stream",
          "name": "stdout",
          "text": [
            "+----+---+-------+-------+\n",
            "|anyo|mes|id_prod|importe|\n",
            "+----+---+-------+-------+\n",
            "|2019|  4|   2809|   6400|\n",
            "|2019|  8|   2809|   6480|\n",
            "|2019|  5|   2809|   5920|\n",
            "|2019|  1|   2809|   5520|\n",
            "|2019|  6|   2809|   6000|\n",
            "+----+---+-------+-------+\n",
            "\n",
            "+-----+--------------------+-----------+------------+------+\n",
            "|   id|              nombre|id_material|id_categoria|precio|\n",
            "+-----+--------------------+-----------+------------+------+\n",
            "| 2809| Ablación viñamarino|          5|           1|    40|\n",
            "| 4077|      Tribu agonista|          5|           4|    45|\n",
            "| 6189|    Bóiler ciudadana|          2|           5|    65|\n",
            "| 9171|Cuatrillón partur...|          2|           2|    75|\n",
            "|10902|  Xacena tetrasílabo|          3|           1|    45|\n",
            "+-----+--------------------+-----------+------------+------+\n",
            "\n",
            "+---+----------+\n",
            "| id|    nombre|\n",
            "+---+----------+\n",
            "|  1|     Cuero|\n",
            "|  2|    Gamuza|\n",
            "|  3|      Goma|\n",
            "|  4|Sintéticos|\n",
            "|  5|      Tela|\n",
            "+---+----------+\n",
            "\n",
            "+---+----------------+\n",
            "| id|          nombre|\n",
            "+---+----------------+\n",
            "|  1|         Botines|\n",
            "|  2|      Zapatillas|\n",
            "|  3|Zapato de vestir|\n",
            "|  4| Zapatos de agua|\n",
            "|  5|Zapatos de tacón|\n",
            "+---+----------------+\n",
            "\n"
          ]
        }
      ]
    },
    {
      "cell_type": "code",
      "source": [
        "# prompt: Find the month with more sells\n",
        "\n",
        "spark.sql(\"\"\"\n",
        "          SELECT anyo, mes, sum(importe) as importe\n",
        "          from datamart_ventas\n",
        "          group by anyo, mes\n",
        "          order by importe desc\n",
        "          \"\"\").show()\n"
      ],
      "metadata": {
        "colab": {
          "base_uri": "https://localhost:8080/"
        },
        "id": "XkGy0C61-BRQ",
        "outputId": "105e8ee7-8ad9-45f7-e69a-90306cf4b8c9"
      },
      "execution_count": 78,
      "outputs": [
        {
          "output_type": "stream",
          "name": "stdout",
          "text": [
            "+----+---+-------+\n",
            "|anyo|mes|importe|\n",
            "+----+---+-------+\n",
            "|2021|  1|1738965|\n",
            "|2020|  7|1735585|\n",
            "|2019| 10|1735560|\n",
            "|2021|  8|1733365|\n",
            "|2020|  8|1732230|\n",
            "|2019|  7|1731160|\n",
            "|2019|  5|1729250|\n",
            "|2020|  1|1728950|\n",
            "|2021|  7|1728310|\n",
            "|2021|  5|1727315|\n",
            "|2021|  3|1726540|\n",
            "|2019|  1|1725765|\n",
            "|2020|  5|1725690|\n",
            "|2019| 12|1725650|\n",
            "|2020| 10|1724070|\n",
            "|2019|  8|1722155|\n",
            "|2019|  3|1721030|\n",
            "|2020|  3|1717350|\n",
            "|2020| 12|1708645|\n",
            "|2020|  6|1691180|\n",
            "+----+---+-------+\n",
            "only showing top 20 rows\n",
            "\n"
          ]
        }
      ]
    },
    {
      "cell_type": "markdown",
      "source": [
        "Mostrar las ventas (total importe) por material y mes a lo largo del historico"
      ],
      "metadata": {
        "id": "qGshRBL2AJ8Z"
      }
    },
    {
      "cell_type": "code",
      "source": [
        "spark.sql(\"\"\"\n",
        "          SELECT dv.anyo, dv.mes, dm.nombre as material, sum(dv.importe) as importe\n",
        "          from datamart_ventas dv\n",
        "          join datamart_productos dp on dp.id = dv.id_prod\n",
        "          join datamart_materiales dm on dp.id_material = dm.id\n",
        "          group by 1,2,3\n",
        "          order by 1,2,3\n",
        "          \"\"\").show()\n"
      ],
      "metadata": {
        "colab": {
          "base_uri": "https://localhost:8080/"
        },
        "id": "7jRVW5sW_5Vm",
        "outputId": "1b3823ed-a7d7-49ae-c693-819bf91464e0"
      },
      "execution_count": 85,
      "outputs": [
        {
          "output_type": "stream",
          "name": "stdout",
          "text": [
            "+----+---+----------+-------+\n",
            "|anyo|mes|  material|importe|\n",
            "+----+---+----------+-------+\n",
            "|2018| 12|Sintéticos|     30|\n",
            "|2019|  1|     Cuero| 408565|\n",
            "|2019|  1|    Gamuza| 643520|\n",
            "|2019|  1|      Goma| 299225|\n",
            "|2019|  1|Sintéticos|  65950|\n",
            "|2019|  1|      Tela| 308505|\n",
            "|2019|  2|     Cuero| 364520|\n",
            "|2019|  2|    Gamuza| 584570|\n",
            "|2019|  2|      Goma| 270560|\n",
            "|2019|  2|Sintéticos|  57460|\n",
            "|2019|  2|      Tela| 277155|\n",
            "|2019|  3|     Cuero| 408970|\n",
            "|2019|  3|    Gamuza| 644515|\n",
            "|2019|  3|      Goma| 291860|\n",
            "|2019|  3|Sintéticos|  68015|\n",
            "|2019|  3|      Tela| 307670|\n",
            "|2019|  4|     Cuero| 391600|\n",
            "|2019|  4|    Gamuza| 628585|\n",
            "|2019|  4|      Goma| 286035|\n",
            "|2019|  4|Sintéticos|  63925|\n",
            "+----+---+----------+-------+\n",
            "only showing top 20 rows\n",
            "\n"
          ]
        }
      ]
    },
    {
      "cell_type": "code",
      "source": [],
      "metadata": {
        "id": "HBiF1CNmCiEP"
      },
      "execution_count": null,
      "outputs": []
    }
  ]
}