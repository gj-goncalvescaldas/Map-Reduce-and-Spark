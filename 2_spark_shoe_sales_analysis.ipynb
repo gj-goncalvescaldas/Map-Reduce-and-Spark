{
  "nbformat": 4,
  "nbformat_minor": 0,
  "metadata": {
    "colab": {
      "provenance": []
    },
    "kernelspec": {
      "name": "python3",
      "display_name": "Python 3"
    },
    "language_info": {
      "name": "python"
    }
  },
  "cells": [
    {
      "cell_type": "markdown",
      "source": [
        "# Spark Show Sales Analysis\n",
        "##Summary\n",
        "\n",
        "\n",
        "\n",
        "1.   **Initialize Spark Session:** A Spark session is created for local processing.\n",
        "2.   **Read CSV Data:** The shoe sales data from a CSV file is loaded into a DataFrame.\n",
        "1.   **Create Temporary View:** The DataFrame is registered as a temporary view for SQL queries.\n",
        "2.   **Convert Timestamp:** The \"fecha\" column is converted to a timestamp format.\n",
        "1.   **Create DataMart for Materials:** A DataFrame with unique material IDs and names is created and registered as a view.\n",
        "2.   **Create DataMart for Categories:** A DataFrame with unique category IDs and names is created and registered as a view.\n",
        "1.   **Join Data for Products:** A comprehensive DataFrame is created by joining the sales data with the materials and categories DataFrames, resulting in a structured view of products with their corresponding IDs and details.\n",
        "2.   **Aggregate Sales Data by Year and Month:** Sales data is aggregated by year, month, and product ID, and stored in a new DataFrame.\n",
        "1.   **Save DataMarts to CSV:** The aggregated sales data and DataFrames for products, materials, and categories are saved as CSV files to Google Drive.\n",
        "2.  ** Reload and Verify Data:** The CSV files are read back into Spark DataFrames, registered as temporary views, and verified by displaying a few rows.\n",
        "1.   **Further Aggregation and Analysis:** Additional SQL queries are executed to aggregate and analyze sales data by year, month, and material.\n",
        "2.   **Create Clients and Sales by Client Views:** Distinct client information and aggregated sales by client are created and saved to CSV.\n",
        "1.   **Reload and Verify Clients and Sales by Client Data:** The saved CSV files are read back into Spark DataFrames, registered as temporary views, and verified.\n",
        "2.   **Aggregate Sales by Client:** SQL queries aggregate sales by client per year and month, and specifically for clients named \"Gloria\".\n",
        "\n",
        "\n",
        "\n",
        "\n",
        "\n",
        "\n",
        "\n",
        "\n",
        "\n",
        "\n",
        "\n",
        "\n",
        "\n",
        "\n",
        "\n",
        "\n",
        "\n",
        "\n",
        "\n",
        "\n",
        "\n",
        "\n"
      ],
      "metadata": {
        "id": "uNY5CZMbnVmw"
      }
    },
    {
      "cell_type": "code",
      "source": [
        "# install java\n",
        "!apt-get install openjdk-8-jdk-headless -qq > /dev/null\n",
        "\n",
        "# install spark (change the version number if needed)\n",
        "#!wget -q https://archive.apache.org/dist/spark/spark-3.5.1/spark-3.5.1-bin-hadoop3.tgz\n",
        "\n",
        "# unzip the spark file to the current folder\n",
        "!tar xf spark-3.5.1-bin-hadoop3.tgz\n",
        "\n",
        "# set your spark folder to your system path environment\n",
        "import os\n",
        "\n",
        "os.environ[\"JAVA_HOME\"] = \"/usr/lib/jvm/java-8-openjdk-amd64\"\n",
        "os.environ[\"SPARK_HOME\"] = \"/content/spark-3.5.1-bin-hadoop3\"\n",
        "\n",
        "# install findspark using pip\n",
        "!pip install -q findspark\n",
        "\n",
        "# install pyspark\n",
        "import findspark\n",
        "findspark.init()\n",
        "from pyspark.sql import SparkSession\n",
        "\n",
        " #Acess to google drive\n",
        "from google.colab import drive\n",
        "drive.mount('/content/drive')\n",
        "import os\n",
        "os.chdir('/content/drive/My Drive/Colab Notebooks')\n",
        "os.listdir()"
      ],
      "metadata": {
        "colab": {
          "base_uri": "https://localhost:8080/"
        },
        "id": "IaHd6O41mxP3",
        "outputId": "99cbf38c-f939-448f-a47a-ecadc4962bff"
      },
      "execution_count": 15,
      "outputs": [
        {
          "output_type": "stream",
          "name": "stdout",
          "text": [
            "\n",
            "gzip: stdin: unexpected end of file\n",
            "tar: Unexpected EOF in archive\n",
            "tar: Unexpected EOF in archive\n",
            "tar: Error is not recoverable: exiting now\n",
            "Drive already mounted at /content/drive; to attempt to forcibly remount, call drive.mount(\"/content/drive\", force_remount=True).\n"
          ]
        },
        {
          "output_type": "execute_result",
          "data": {
            "text/plain": [
              "['S07L02-Gustvao.ipynb',\n",
              " 'Untitled0.ipynb',\n",
              " 'S12L01.ipynb',\n",
              " 'S12L02.ipynb',\n",
              " 'Machine_Learning_Lab03_Action_Learning_Notebook',\n",
              " 'S12L03.ipynb',\n",
              " 'S12L04.ipynb',\n",
              " 'Untitled1.ipynb',\n",
              " 'Cópia de Spark Setup and Basic Data Processing in PySpark.ipynb',\n",
              " 'Spark Setup and Basic Data Processing in PySpark.ipynb',\n",
              " 'DATA',\n",
              " '2 - spark_shoe_sales_analysis.ipynb.ipynb',\n",
              " 'spark-3.5.1-bin-hadoop3.tgz',\n",
              " 'spark-3.5.1-bin-hadoop3']"
            ]
          },
          "metadata": {},
          "execution_count": 15
        }
      ]
    },
    {
      "cell_type": "code",
      "execution_count": 16,
      "metadata": {
        "id": "7f1dh2qUmCWB"
      },
      "outputs": [],
      "source": [
        "spark = SparkSession.builder.appName(\"Análise de Ventas de Zapatos\").master(\"local[*]\").getOrCreate()"
      ]
    },
    {
      "cell_type": "markdown",
      "source": [
        "Explanation:\n",
        "\n",
        "*   This cell initializes a Spark session named \"Análise de Ventas de Zapatos\".\n",
        "*   master(\"local[*]\") specifies that Spark should run locally using all available cores.\n",
        "\n"
      ],
      "metadata": {
        "id": "NRzb8YSVFX8q"
      }
    },
    {
      "cell_type": "code",
      "source": [
        "df = spark.read.csv('/content/drive/My Drive/Colab Notebooks/DATA/ventas_zapatos.csv', header=True, inferSchema=True, sep=';')\n",
        "df.printSchema()"
      ],
      "metadata": {
        "colab": {
          "base_uri": "https://localhost:8080/"
        },
        "id": "pf_RijLymuzD",
        "outputId": "092c7e6b-ad35-4f2f-9e12-f3ddc9b6ae05"
      },
      "execution_count": 17,
      "outputs": [
        {
          "output_type": "stream",
          "name": "stdout",
          "text": [
            "root\n",
            " |-- Fecha: string (nullable = true)\n",
            " |-- id_cliente: string (nullable = true)\n",
            " |-- nombre: string (nullable = true)\n",
            " |-- apellido_1: string (nullable = true)\n",
            " |-- apellido_2: string (nullable = true)\n",
            " |-- id_prod: integer (nullable = true)\n",
            " |-- nombre_prod: string (nullable = true)\n",
            " |-- material_prod: string (nullable = true)\n",
            " |-- categoria_prod: string (nullable = true)\n",
            " |-- precio: integer (nullable = true)\n",
            "\n"
          ]
        }
      ]
    },
    {
      "cell_type": "markdown",
      "source": [
        "Explanation:\n",
        "\n",
        "*   A CSV file named ventas_zapatos.csv is read from Google Drive into a DataFrame df.\n",
        "*   header=True specifies that the CSV file has a header row.\n",
        "*   inferSchema=True infers the data types of the columns.\n",
        "*   sep=';' specifies that the CSV uses semicolons as separators.\n",
        "*   printSchema() displays the schema of the DataFrame.\n",
        "\n",
        "\n",
        "\n",
        "\n"
      ],
      "metadata": {
        "id": "FK-X6gwmGIfI"
      }
    },
    {
      "cell_type": "code",
      "source": [
        "df.createOrReplaceTempView(\"ventas\")"
      ],
      "metadata": {
        "id": "P17lkvJ3o-om"
      },
      "execution_count": 18,
      "outputs": []
    },
    {
      "cell_type": "markdown",
      "source": [
        "Explanation:\n",
        "\n",
        "*   This creates a temporary view called \"ventas\" from the DataFrame df, allowing SQL queries to be run against it.\n",
        "\n",
        "\n"
      ],
      "metadata": {
        "id": "_i0W3tmeGflQ"
      }
    },
    {
      "cell_type": "code",
      "source": [
        "spark.sql(\"SELECT * FROM VENTAS\").show()"
      ],
      "metadata": {
        "colab": {
          "base_uri": "https://localhost:8080/"
        },
        "id": "y9eODry3zPkL",
        "outputId": "3a29481a-18c8-4a74-a46b-e573fbf5dc10"
      },
      "execution_count": 19,
      "outputs": [
        {
          "output_type": "stream",
          "name": "stdout",
          "text": [
            "+----------------+---------------+----------+----------+----------+-------+--------------------+-------------+----------------+------+\n",
            "|           Fecha|     id_cliente|    nombre|apellido_1|apellido_2|id_prod|         nombre_prod|material_prod|  categoria_prod|precio|\n",
            "+----------------+---------------+----------+----------+----------+-------+--------------------+-------------+----------------+------+\n",
            "| 20/04/2019 4:19|995052178892353|   Fabiola|    Méndez|     Ramos| 562972|   Pelusa mercenario|       Gamuza|      Zapatillas|    75|\n",
            "| 10/02/2019 3:32|528848914440944|   Basileo|    Alonso|   Esteban| 949966| Reforma capitalista|         Goma|Zapatos de tacón|    50|\n",
            "|08/05/2019 19:11| 53146869174343|    Míriam|  Martínez|   Esteban| 432964|    Zoca coxofemoral|       Gamuza|Zapato de vestir|    70|\n",
            "|22/04/2019 15:24| 95327509355920|    Teresa|   Garrido|    Castro| 842352|Número Primo cham...|         Goma|         Botines|    50|\n",
            "|02/01/2019 10:01|560935930327708|   Natalia|    Vargas| Rodríguez| 816218|     Mejora burkinés|        Cuero|      Zapatillas|    85|\n",
            "|15/01/2019 15:20|518843488250634|      José|    Ibáñez|  González| 612297|    Retín dehiscente|        Cuero|         Botines|    90|\n",
            "|03/05/2019 23:46|268300738882486|  Verónica|      Ruiz|   Garrido| 227744|      Ñinga sediento|       Gamuza|Zapato de vestir|    65|\n",
            "|26/01/2019 13:00|209058654202699|   Miqueas|   Montoro|    Martín| 890119|Predecesor cincuenta|       Gamuza|Zapatos de tacón|    75|\n",
            "| 28/04/2019 5:44|956967795276369|  Casimiro|   Vázquez|    Flores| 968238|Fungistático peri...|         Tela|      Zapatillas|    40|\n",
            "| 23/04/2019 3:28|688099529240320| Natividad|     Parra|    Campos| 287558|Rebullicio absolv...|       Gamuza|         Botines|    70|\n",
            "| 03/04/2019 1:35| 65850855751971|   Teodora|       Gil|   Aguilar| 949966| Reforma capitalista|         Goma|Zapatos de tacón|    50|\n",
            "|17/04/2019 14:25|552395408874921|   Cecilia|   Serrano|    Pastor| 284282|      Viruta asesado|         Tela|      Zapatillas|    40|\n",
            "| 10/04/2019 0:54| 28534471721604|     Nuria| Domínguez|    Lozano| 144844|Excrecencia arbol...|       Gamuza|         Botines|    60|\n",
            "|29/04/2019 21:50|296454476859060|  Josefina|    Santos|     Muñoz| 770874|   Náufrago tarateño|        Cuero| Zapatos de agua|    90|\n",
            "| 25/04/2019 1:08|637401250128217|   Eusebio|   Sánchez|     Núñez| 463228|  Pésame contractual|       Gamuza|      Zapatillas|    70|\n",
            "|01/02/2019 23:26|745520267958410|   Edmundo|    Pastor|     Soler| 724303|  Cobardón camboyano|   Sintéticos|      Zapatillas|    35|\n",
            "| 09/02/2019 6:12|248544781588493|     Celso|   Serrano|   Jiménez| 910881|Sucesión Converge...|       Gamuza|Zapatos de tacón|    65|\n",
            "| 25/01/2019 3:05|412564651502106|Segismundo|      Sanz|  González| 816218|     Mejora burkinés|        Cuero|      Zapatillas|    85|\n",
            "|11/05/2019 19:46|874761004374001|    Lázaro|   Montero|     Arias| 294040| Brazalete resbaloso|         Goma|Zapato de vestir|    40|\n",
            "|04/05/2019 12:25|574629118992248|    Ángela|   Vázquez|     Gómez| 693737|Beritense intratable|         Goma|         Botines|    55|\n",
            "+----------------+---------------+----------+----------+----------+-------+--------------------+-------------+----------------+------+\n",
            "only showing top 20 rows\n",
            "\n"
          ]
        }
      ]
    },
    {
      "cell_type": "code",
      "source": [
        "from pyspark.sql.functions import to_timestamp\n",
        "df = df.withColumn(\"fecha\", to_timestamp(df[\"fecha\"], \"dd/MM/yyyy H:mm\"))\n",
        "df.createOrReplaceTempView(\"ventas\")\n",
        "spark.sql(\"SELECT * FROM VENTAS LIMIT 10\").show()\n",
        "df.printSchema()"
      ],
      "metadata": {
        "colab": {
          "base_uri": "https://localhost:8080/"
        },
        "id": "rtVpZO3azfXX",
        "outputId": "4c9bd7e1-3419-4034-8d2d-7c452a343053"
      },
      "execution_count": 20,
      "outputs": [
        {
          "output_type": "stream",
          "name": "stdout",
          "text": [
            "+-------------------+---------------+---------+----------+----------+-------+--------------------+-------------+----------------+------+\n",
            "|              fecha|     id_cliente|   nombre|apellido_1|apellido_2|id_prod|         nombre_prod|material_prod|  categoria_prod|precio|\n",
            "+-------------------+---------------+---------+----------+----------+-------+--------------------+-------------+----------------+------+\n",
            "|2019-04-20 04:19:00|995052178892353|  Fabiola|    Méndez|     Ramos| 562972|   Pelusa mercenario|       Gamuza|      Zapatillas|    75|\n",
            "|2019-02-10 03:32:00|528848914440944|  Basileo|    Alonso|   Esteban| 949966| Reforma capitalista|         Goma|Zapatos de tacón|    50|\n",
            "|2019-05-08 19:11:00| 53146869174343|   Míriam|  Martínez|   Esteban| 432964|    Zoca coxofemoral|       Gamuza|Zapato de vestir|    70|\n",
            "|2019-04-22 15:24:00| 95327509355920|   Teresa|   Garrido|    Castro| 842352|Número Primo cham...|         Goma|         Botines|    50|\n",
            "|2019-01-02 10:01:00|560935930327708|  Natalia|    Vargas| Rodríguez| 816218|     Mejora burkinés|        Cuero|      Zapatillas|    85|\n",
            "|2019-01-15 15:20:00|518843488250634|     José|    Ibáñez|  González| 612297|    Retín dehiscente|        Cuero|         Botines|    90|\n",
            "|2019-05-03 23:46:00|268300738882486| Verónica|      Ruiz|   Garrido| 227744|      Ñinga sediento|       Gamuza|Zapato de vestir|    65|\n",
            "|2019-01-26 13:00:00|209058654202699|  Miqueas|   Montoro|    Martín| 890119|Predecesor cincuenta|       Gamuza|Zapatos de tacón|    75|\n",
            "|2019-04-28 05:44:00|956967795276369| Casimiro|   Vázquez|    Flores| 968238|Fungistático peri...|         Tela|      Zapatillas|    40|\n",
            "|2019-04-23 03:28:00|688099529240320|Natividad|     Parra|    Campos| 287558|Rebullicio absolv...|       Gamuza|         Botines|    70|\n",
            "+-------------------+---------------+---------+----------+----------+-------+--------------------+-------------+----------------+------+\n",
            "\n",
            "root\n",
            " |-- fecha: timestamp (nullable = true)\n",
            " |-- id_cliente: string (nullable = true)\n",
            " |-- nombre: string (nullable = true)\n",
            " |-- apellido_1: string (nullable = true)\n",
            " |-- apellido_2: string (nullable = true)\n",
            " |-- id_prod: integer (nullable = true)\n",
            " |-- nombre_prod: string (nullable = true)\n",
            " |-- material_prod: string (nullable = true)\n",
            " |-- categoria_prod: string (nullable = true)\n",
            " |-- precio: integer (nullable = true)\n",
            "\n"
          ]
        }
      ]
    },
    {
      "cell_type": "markdown",
      "source": [
        "Explanation:\n",
        "\n",
        "*   The to_timestamp function is imported.\n",
        "*   The \"fecha\" column is converted to a timestamp format.\n",
        "*   The temporary view \"ventas\" is recreated with the updated DataFrame.\n",
        "*   A SQL query selects the first 10 rows from the \"ventas\" view and displays them.\n",
        "*   printSchema() shows the updated schema of the DataFrame.\n",
        "\n",
        "\n",
        "\n"
      ],
      "metadata": {
        "id": "CHJVpYmPGn6Q"
      }
    },
    {
      "cell_type": "code",
      "source": [
        "#Crear un DataMart\n",
        "materiales = spark.sql(\"SELECT DISTINCT material_prod FROM VENTAS\")\n",
        "materiales.createOrReplaceTempView(\"materiales\")\n",
        "spark.sql(\"SELECT row_number () over (order by material_prod) as id, material_prod as nombre from materiales\").createOrReplaceTempView(\"materiales\")\n",
        "spark.sql(\"SELECT * FROM MATERIALES\").show()"
      ],
      "metadata": {
        "colab": {
          "base_uri": "https://localhost:8080/"
        },
        "id": "r9gDum9Cz8es",
        "outputId": "4d34d53f-e4f3-422a-bd6b-1a94c843fc1e"
      },
      "execution_count": 22,
      "outputs": [
        {
          "output_type": "stream",
          "name": "stdout",
          "text": [
            "+---+----------+\n",
            "| id|    nombre|\n",
            "+---+----------+\n",
            "|  1|     Cuero|\n",
            "|  2|    Gamuza|\n",
            "|  3|      Goma|\n",
            "|  4|Sintéticos|\n",
            "|  5|      Tela|\n",
            "+---+----------+\n",
            "\n"
          ]
        }
      ]
    },
    {
      "cell_type": "markdown",
      "source": [
        "Explanation:\n",
        "\n",
        "*   A SQL query selects distinct material_prod values from the \"ventas\" view, creating a DataFrame materiales.\n",
        "*   A temporary view \"materiales\" is created.\n",
        "*   A new SQL query assigns a unique ID to each material_prod and renames it to nombre, updating the \"materiales\" view.\n",
        "*   The contents of the \"materiales\" view are displayed.\n"
      ],
      "metadata": {
        "id": "hj-zJmN4G6iY"
      }
    },
    {
      "cell_type": "code",
      "source": [
        "categoria = spark.sql(\"SELECT DISTINCT categoria_prod FROM VENTAS\")\n",
        "categoria.createOrReplaceTempView(\"categoria\")\n",
        "spark.sql(\"SELECT row_number () over (order by categoria_prod) as id, categoria_prod as nombre from categoria\").createOrReplaceTempView(\"categoria\")\n",
        "spark.sql(\"SELECT * FROM CATEGORIA\").show()"
      ],
      "metadata": {
        "colab": {
          "base_uri": "https://localhost:8080/"
        },
        "id": "IRt8jvKl0nuD",
        "outputId": "cdd119be-ecc6-43e0-b8ba-3c137e2848dd"
      },
      "execution_count": 23,
      "outputs": [
        {
          "output_type": "stream",
          "name": "stdout",
          "text": [
            "+---+----------------+\n",
            "| id|          nombre|\n",
            "+---+----------------+\n",
            "|  1|         Botines|\n",
            "|  2|      Zapatillas|\n",
            "|  3|Zapato de vestir|\n",
            "|  4| Zapatos de agua|\n",
            "|  5|Zapatos de tacón|\n",
            "+---+----------------+\n",
            "\n"
          ]
        }
      ]
    },
    {
      "cell_type": "markdown",
      "source": [
        "Explanation:\n",
        "\n",
        "*   A SQL query selects distinct categoria_prod values from the \"ventas\" view, creating a DataFrame categoria.\n",
        "*   A temporary view \"categoria\" is created from categoria.\n",
        "*   A new SQL query assigns a unique ID to each categoria_prod and renames it to nombre, updating the \"categoria\" view.\n",
        "*   The contents of the \"categoria\" view are displayed."
      ],
      "metadata": {
        "id": "Y756unZoHVMY"
      }
    },
    {
      "cell_type": "code",
      "source": [
        "productos = spark.sql (\"\"\"\n",
        "    select distinct id_prod as id,  nombre_prod as nombre, m.id as id_material, c.id as id_categoria, precio\n",
        "    from ventas\n",
        "    join materiales m on m.nombre = ventas.material_prod\n",
        "    join categoria c on c.nombre = ventas.categoria_prod\n",
        "    order by id\n",
        "\"\"\")\n",
        "productos.createOrReplaceTempView(\"productos\")\n",
        "productos.show()"
      ],
      "metadata": {
        "colab": {
          "base_uri": "https://localhost:8080/"
        },
        "id": "2SUs-xvH2ymR",
        "outputId": "a7539001-e5d2-488c-8f82-6e7b1d5f25bc"
      },
      "execution_count": 24,
      "outputs": [
        {
          "output_type": "stream",
          "name": "stdout",
          "text": [
            "+------+--------------------+-----------+------------+------+\n",
            "|    id|              nombre|id_material|id_categoria|precio|\n",
            "+------+--------------------+-----------+------------+------+\n",
            "|  2809| Ablación viñamarino|          5|           1|    40|\n",
            "|  4077|      Tribu agonista|          5|           4|    45|\n",
            "|  6189|    Bóiler ciudadana|          2|           5|    65|\n",
            "|  9171|Cuatrillón partur...|          2|           2|    75|\n",
            "| 10902|  Xacena tetrasílabo|          3|           1|    45|\n",
            "| 29075|  Repentista chicoco|          1|           5|    85|\n",
            "| 34388|     Argucia diestro|          2|           2|    65|\n",
            "| 36922|    Criancia íntegro|          5|           5|    40|\n",
            "| 39377|    Complice acetoso|          5|           5|    45|\n",
            "| 52175|  Carameleo leguleyo|          1|           2|    90|\n",
            "| 58759|     Horca dilatable|          2|           4|    65|\n",
            "| 70231|  Bizantino parlante|          5|           5|    35|\n",
            "| 71840|Materia Inorgánic...|          2|           4|    65|\n",
            "| 75896|   Gefirofobia guaco|          2|           4|    70|\n",
            "| 81907|Tangencia cardena...|          3|           1|    40|\n",
            "| 84156|Condimento misionado|          3|           2|    50|\n",
            "| 86091|    Vena partalobero|          2|           1|    65|\n",
            "|100066|      Autora binario|          2|           1|    75|\n",
            "|104454|Fecha Juliana lep...|          5|           5|    30|\n",
            "|104964|      Mensura casado|          2|           1|    75|\n",
            "+------+--------------------+-----------+------------+------+\n",
            "only showing top 20 rows\n",
            "\n"
          ]
        }
      ]
    },
    {
      "cell_type": "markdown",
      "source": [
        "Explanation:\n",
        "\n",
        "*   A SQL query is run to select distinct product details from the \"ventas\" view.\n",
        "*   The query joins the \"ventas\" view with the \"materiales\" and \"categoria\" views to get the material and category IDs.\n",
        "*   The resulting DataFrame productos includes columns for product ID (id), product name (nombre), material ID (id_material), category ID (id_categoria), and price (precio).\n",
        "*   This DataFrame is then registered as a temporary view called \"productos\"."
      ],
      "metadata": {
        "id": "FeGh7nlZYPgD"
      }
    },
    {
      "cell_type": "code",
      "source": [
        "ventas_final = spark.sql(\"\"\"\n",
        "          SELECT date_part ('year', Fecha) as anyo, date_part('months', Fecha) as mes, id_prod, sum(precio) as importe\n",
        "          from ventas\n",
        "          group by anyo, mes, id_prod\n",
        "          order by anyo, mes\n",
        "          \"\"\")\n",
        "ventas_final.createOrReplaceTempView(\"ventas_final\")\n",
        "ventas_final.show()"
      ],
      "metadata": {
        "colab": {
          "base_uri": "https://localhost:8080/"
        },
        "id": "Mj9eUQSx65zG",
        "outputId": "e981ee7b-fbd1-43bc-d487-c5207a8d5d11"
      },
      "execution_count": 25,
      "outputs": [
        {
          "output_type": "stream",
          "name": "stdout",
          "text": [
            "+----+---+-------+-------+\n",
            "|anyo|mes|id_prod|importe|\n",
            "+----+---+-------+-------+\n",
            "|2018| 12| 953060|     30|\n",
            "|2019|  1|  86091|  11180|\n",
            "|2019|  1| 977219|   6840|\n",
            "|2019|  1| 104454|   5460|\n",
            "|2019|  1| 308114|  11025|\n",
            "|2019|  1| 844797|  10650|\n",
            "|2019|  1| 619589|  14915|\n",
            "|2019|  1| 612297|  13410|\n",
            "|2019|  1|   6189|  10465|\n",
            "|2019|  1| 753623|   7875|\n",
            "|2019|  1| 432964|  11200|\n",
            "|2019|  1| 904052|   5560|\n",
            "|2019|  1| 144628|   5635|\n",
            "|2019|  1| 883449|  11700|\n",
            "|2019|  1| 851349|   5460|\n",
            "|2019|  1| 371293|   5775|\n",
            "|2019|  1| 320893|   3650|\n",
            "|2019|  1| 356608|  12750|\n",
            "|2019|  1|  34388|   9620|\n",
            "|2019|  1| 414511|   6880|\n",
            "+----+---+-------+-------+\n",
            "only showing top 20 rows\n",
            "\n"
          ]
        }
      ]
    },
    {
      "cell_type": "markdown",
      "source": [
        "Explanation:\n",
        "\n",
        "*   A SQL query is executed to aggregate sales data by year, month, and product ID.\n",
        "*   The total precio is summed for each group, and the results are stored in ventas_final.\n",
        "*   The ventas_final DataFrame is registered as a temporary view and displayed."
      ],
      "metadata": {
        "id": "dpAMEIiEY6PZ"
      }
    },
    {
      "cell_type": "code",
      "source": [
        "spark.sql(\"SELECT date_part ('year', Fecha) as anyo, date_part('months', Fecha) as mes from ventas order by fecha\").show()"
      ],
      "metadata": {
        "colab": {
          "base_uri": "https://localhost:8080/"
        },
        "id": "dkQDqLhP4Lvl",
        "outputId": "5d717b9d-035f-4bc6-fe96-db7621d91bb6"
      },
      "execution_count": 26,
      "outputs": [
        {
          "output_type": "stream",
          "name": "stdout",
          "text": [
            "+----+---+\n",
            "|anyo|mes|\n",
            "+----+---+\n",
            "|2018| 12|\n",
            "|2019|  1|\n",
            "|2019|  1|\n",
            "|2019|  1|\n",
            "|2019|  1|\n",
            "|2019|  1|\n",
            "|2019|  1|\n",
            "|2019|  1|\n",
            "|2019|  1|\n",
            "|2019|  1|\n",
            "|2019|  1|\n",
            "|2019|  1|\n",
            "|2019|  1|\n",
            "|2019|  1|\n",
            "|2019|  1|\n",
            "|2019|  1|\n",
            "|2019|  1|\n",
            "|2019|  1|\n",
            "|2019|  1|\n",
            "|2019|  1|\n",
            "+----+---+\n",
            "only showing top 20 rows\n",
            "\n"
          ]
        }
      ]
    },
    {
      "cell_type": "markdown",
      "source": [
        "Explanation:\n",
        "\n",
        "*   A SQL query selects the year and month from the fecha column in the ventas view and orders the results by fecha."
      ],
      "metadata": {
        "id": "YhJUHtX9ZKoh"
      }
    },
    {
      "cell_type": "code",
      "source": [
        "productos_final = spark.sql (\"select * from productos\")\n",
        "materiales_final = spark.sql (\"select * from materiales\")\n",
        "categoria_final = spark.sql (\"select * from categoria\")\n"
      ],
      "metadata": {
        "id": "fwg3zxof6hgF"
      },
      "execution_count": 27,
      "outputs": []
    },
    {
      "cell_type": "markdown",
      "source": [
        "Explanation:\n",
        "\n",
        "*   SQL queries select all records from the productos, materiales, and categoria views, creating DataFrames productos_final, materiales_final, and categoria_final.\n"
      ],
      "metadata": {
        "id": "STesWVgZZSkg"
      }
    },
    {
      "cell_type": "code",
      "source": [
        "ventas_final.repartition(1). write.format(\"com.databricks.spark.csv\").option(\"header\", \"true\").option(\"sep\", \";\").mode(\"overwrite\").save(\"/content/drive/My Drive/Colab Notebooks/DATA/datamart_ventas.csv\")\n",
        "productos_final.repartition(1). write.format(\"com.databricks.spark.csv\").option(\"header\", \"true\").option(\"sep\", \";\").mode(\"overwrite\").save(\"/content/drive/My Drive/Colab Notebooks/DATA/datamart_productos.csv\")\n",
        "materiales_final.repartition(1). write.format(\"com.databricks.spark.csv\").option(\"header\", \"true\").option(\"sep\", \";\").mode(\"overwrite\").save(\"/content/drive/My Drive/Colab Notebooks/DATA/datamart_materiales.csv\")\n",
        "categoria_final.repartition(1). write.format(\"com.databricks.spark.csv\").option(\"header\", \"true\").option(\"sep\", \";\").mode(\"overwrite\").save(\"/content/drive/My Drive/Colab Notebooks/DATA/datamart_categoria.csv\")"
      ],
      "metadata": {
        "id": "WrRGF6sr9L-5"
      },
      "execution_count": 28,
      "outputs": []
    },
    {
      "cell_type": "markdown",
      "source": [
        "Explanation:\n",
        "\n",
        "*  The ventas_final, productos_final, materiales_final, and categoria_final DataFrames are saved as CSV files to Google Drive.\n",
        "*   repartition(1) ensures that the data is saved in a single file.\n",
        "*   CSV files are written with headers and semicolons as separators, overwriting any existing files."
      ],
      "metadata": {
        "id": "zKTcoWm-ZS-d"
      }
    },
    {
      "cell_type": "code",
      "source": [
        "#ventas\n",
        "spark.read.csv('/content/drive/My Drive/Colab Notebooks/DATA/datamart_ventas.csv', header=True, inferSchema=True, sep=';').createOrReplaceTempView(\"datamart_ventas\")\n",
        "spark.sql(\"SELECT * FROM datamart_ventas order by id_prod  limit 5 \").show()\n",
        "#productos\n",
        "spark.read.csv('/content/drive/My Drive/Colab Notebooks/DATA/datamart_productos.csv', header=True, inferSchema=True, sep=';').createOrReplaceTempView(\"datamart_productos\")\n",
        "spark.sql(\"SELECT * FROM datamart_productos order by id limit 5 \").show()\n",
        "#materiales\n",
        "spark.read.csv('/content/drive/My Drive/Colab Notebooks/DATA/datamart_materiales.csv', header=True, inferSchema=True, sep=';').createOrReplaceTempView(\"datamart_materiales\")\n",
        "spark.sql(\"SELECT * FROM datamart_materiales limit 5\").show()\n",
        "#categoria\n",
        "spark.read.csv('/content/drive/My Drive/Colab Notebooks/DATA/datamart_categoria.csv', header=True, inferSchema=True, sep=';').createOrReplaceTempView(\"datamart_categoria\")\n",
        "spark.sql(\"SELECT * FROM datamart_categoria limit 5\").show()"
      ],
      "metadata": {
        "colab": {
          "base_uri": "https://localhost:8080/"
        },
        "id": "KXvH0XdL9j2W",
        "outputId": "21ce604e-3cd5-4352-92eb-c774ae2ebdbf"
      },
      "execution_count": 29,
      "outputs": [
        {
          "output_type": "stream",
          "name": "stdout",
          "text": [
            "+----+---+-------+-------+\n",
            "|anyo|mes|id_prod|importe|\n",
            "+----+---+-------+-------+\n",
            "|2019|  4|   2809|   6400|\n",
            "|2019|  8|   2809|   6480|\n",
            "|2019|  5|   2809|   5920|\n",
            "|2019|  1|   2809|   5520|\n",
            "|2019|  6|   2809|   6000|\n",
            "+----+---+-------+-------+\n",
            "\n",
            "+-----+--------------------+-----------+------------+------+\n",
            "|   id|              nombre|id_material|id_categoria|precio|\n",
            "+-----+--------------------+-----------+------------+------+\n",
            "| 2809| Ablación viñamarino|          5|           1|    40|\n",
            "| 4077|      Tribu agonista|          5|           4|    45|\n",
            "| 6189|    Bóiler ciudadana|          2|           5|    65|\n",
            "| 9171|Cuatrillón partur...|          2|           2|    75|\n",
            "|10902|  Xacena tetrasílabo|          3|           1|    45|\n",
            "+-----+--------------------+-----------+------------+------+\n",
            "\n",
            "+---+----------+\n",
            "| id|    nombre|\n",
            "+---+----------+\n",
            "|  1|     Cuero|\n",
            "|  2|    Gamuza|\n",
            "|  3|      Goma|\n",
            "|  4|Sintéticos|\n",
            "|  5|      Tela|\n",
            "+---+----------+\n",
            "\n",
            "+---+----------------+\n",
            "| id|          nombre|\n",
            "+---+----------------+\n",
            "|  1|         Botines|\n",
            "|  2|      Zapatillas|\n",
            "|  3|Zapato de vestir|\n",
            "|  4| Zapatos de agua|\n",
            "|  5|Zapatos de tacón|\n",
            "+---+----------------+\n",
            "\n"
          ]
        }
      ]
    },
    {
      "cell_type": "markdown",
      "source": [
        "Explanation:\n",
        "\n",
        "*   CSV files for datamart_ventas, datamart_productos, datamart_materiales, and datamart_categoria are read back into Spark DataFrames and registered as temporary views.\n",
        "*   SQL queries display the first 5 rows of each view to verify the data."
      ],
      "metadata": {
        "id": "iVjwlM5FZd33"
      }
    },
    {
      "cell_type": "code",
      "source": [
        "# prompt: Find the month with more sells\n",
        "\n",
        "spark.sql(\"\"\"\n",
        "          SELECT anyo, mes, sum(importe) as importe\n",
        "          from datamart_ventas\n",
        "          group by anyo, mes\n",
        "          order by importe desc\n",
        "          \"\"\").show()\n"
      ],
      "metadata": {
        "colab": {
          "base_uri": "https://localhost:8080/"
        },
        "id": "XkGy0C61-BRQ",
        "outputId": "c4e01507-08e4-4f39-e266-918ebfce9157"
      },
      "execution_count": 30,
      "outputs": [
        {
          "output_type": "stream",
          "name": "stdout",
          "text": [
            "+----+---+-------+\n",
            "|anyo|mes|importe|\n",
            "+----+---+-------+\n",
            "|2021|  1|1738965|\n",
            "|2020|  7|1735585|\n",
            "|2019| 10|1735560|\n",
            "|2021|  8|1733365|\n",
            "|2020|  8|1732230|\n",
            "|2019|  7|1731160|\n",
            "|2019|  5|1729250|\n",
            "|2020|  1|1728950|\n",
            "|2021|  7|1728310|\n",
            "|2021|  5|1727315|\n",
            "|2021|  3|1726540|\n",
            "|2019|  1|1725765|\n",
            "|2020|  5|1725690|\n",
            "|2019| 12|1725650|\n",
            "|2020| 10|1724070|\n",
            "|2019|  8|1722155|\n",
            "|2019|  3|1721030|\n",
            "|2020|  3|1717350|\n",
            "|2020| 12|1708645|\n",
            "|2020|  6|1691180|\n",
            "+----+---+-------+\n",
            "only showing top 20 rows\n",
            "\n"
          ]
        }
      ]
    },
    {
      "cell_type": "markdown",
      "source": [
        "Explanation:\n",
        "\n",
        "*   A SQL query aggregates sales (importe) by year and month from the datamart_ventas view.\n",
        "*   The results are ordered by importe in descending order and displayed."
      ],
      "metadata": {
        "id": "qGshRBL2AJ8Z"
      }
    },
    {
      "cell_type": "code",
      "source": [
        "spark.sql(\"\"\"\n",
        "          SELECT dv.anyo, dv.mes, dm.nombre as material, sum(dv.importe) as importe\n",
        "          from datamart_ventas dv\n",
        "          join datamart_productos dp on dp.id = dv.id_prod\n",
        "          join datamart_materiales dm on dp.id_material = dm.id\n",
        "          group by 1,2,3\n",
        "          order by 1,2,3\n",
        "          \"\"\").show()\n"
      ],
      "metadata": {
        "colab": {
          "base_uri": "https://localhost:8080/"
        },
        "id": "7jRVW5sW_5Vm",
        "outputId": "812c9464-8079-444f-9971-6e6b305e76b7"
      },
      "execution_count": 31,
      "outputs": [
        {
          "output_type": "stream",
          "name": "stdout",
          "text": [
            "+----+---+----------+-------+\n",
            "|anyo|mes|  material|importe|\n",
            "+----+---+----------+-------+\n",
            "|2018| 12|Sintéticos|     30|\n",
            "|2019|  1|     Cuero| 408565|\n",
            "|2019|  1|    Gamuza| 643520|\n",
            "|2019|  1|      Goma| 299225|\n",
            "|2019|  1|Sintéticos|  65950|\n",
            "|2019|  1|      Tela| 308505|\n",
            "|2019|  2|     Cuero| 364520|\n",
            "|2019|  2|    Gamuza| 584570|\n",
            "|2019|  2|      Goma| 270560|\n",
            "|2019|  2|Sintéticos|  57460|\n",
            "|2019|  2|      Tela| 277155|\n",
            "|2019|  3|     Cuero| 408970|\n",
            "|2019|  3|    Gamuza| 644515|\n",
            "|2019|  3|      Goma| 291860|\n",
            "|2019|  3|Sintéticos|  68015|\n",
            "|2019|  3|      Tela| 307670|\n",
            "|2019|  4|     Cuero| 391600|\n",
            "|2019|  4|    Gamuza| 628585|\n",
            "|2019|  4|      Goma| 286035|\n",
            "|2019|  4|Sintéticos|  63925|\n",
            "+----+---+----------+-------+\n",
            "only showing top 20 rows\n",
            "\n"
          ]
        }
      ]
    },
    {
      "cell_type": "markdown",
      "source": [
        "Explanation:\n",
        "\n",
        "*   A SQL query aggregates sales (importe) by year, month, and material from the datamart_ventas, datamart_productos, and datamart_materiales views.\n",
        "*   The results are grouped and ordered by year, month, and material, and then displayed."
      ],
      "metadata": {
        "id": "k-QKpzOxZ7ko"
      }
    },
    {
      "cell_type": "code",
      "source": [
        "spark.sql(\"select * from ventas limit 10\").show()"
      ],
      "metadata": {
        "colab": {
          "base_uri": "https://localhost:8080/"
        },
        "id": "-Xv7O2CicHOQ",
        "outputId": "7657a71e-96c5-4138-d846-cd0213d99081"
      },
      "execution_count": 34,
      "outputs": [
        {
          "output_type": "stream",
          "name": "stdout",
          "text": [
            "+-------------------+---------------+---------+----------+----------+-------+--------------------+-------------+----------------+------+\n",
            "|              fecha|     id_cliente|   nombre|apellido_1|apellido_2|id_prod|         nombre_prod|material_prod|  categoria_prod|precio|\n",
            "+-------------------+---------------+---------+----------+----------+-------+--------------------+-------------+----------------+------+\n",
            "|2019-04-20 04:19:00|995052178892353|  Fabiola|    Méndez|     Ramos| 562972|   Pelusa mercenario|       Gamuza|      Zapatillas|    75|\n",
            "|2019-02-10 03:32:00|528848914440944|  Basileo|    Alonso|   Esteban| 949966| Reforma capitalista|         Goma|Zapatos de tacón|    50|\n",
            "|2019-05-08 19:11:00| 53146869174343|   Míriam|  Martínez|   Esteban| 432964|    Zoca coxofemoral|       Gamuza|Zapato de vestir|    70|\n",
            "|2019-04-22 15:24:00| 95327509355920|   Teresa|   Garrido|    Castro| 842352|Número Primo cham...|         Goma|         Botines|    50|\n",
            "|2019-01-02 10:01:00|560935930327708|  Natalia|    Vargas| Rodríguez| 816218|     Mejora burkinés|        Cuero|      Zapatillas|    85|\n",
            "|2019-01-15 15:20:00|518843488250634|     José|    Ibáñez|  González| 612297|    Retín dehiscente|        Cuero|         Botines|    90|\n",
            "|2019-05-03 23:46:00|268300738882486| Verónica|      Ruiz|   Garrido| 227744|      Ñinga sediento|       Gamuza|Zapato de vestir|    65|\n",
            "|2019-01-26 13:00:00|209058654202699|  Miqueas|   Montoro|    Martín| 890119|Predecesor cincuenta|       Gamuza|Zapatos de tacón|    75|\n",
            "|2019-04-28 05:44:00|956967795276369| Casimiro|   Vázquez|    Flores| 968238|Fungistático peri...|         Tela|      Zapatillas|    40|\n",
            "|2019-04-23 03:28:00|688099529240320|Natividad|     Parra|    Campos| 287558|Rebullicio absolv...|       Gamuza|         Botines|    70|\n",
            "+-------------------+---------------+---------+----------+----------+-------+--------------------+-------------+----------------+------+\n",
            "\n"
          ]
        }
      ]
    },
    {
      "cell_type": "code",
      "source": [
        "clientes = spark.sql(\"\"\"\n",
        "          select distinct id_cliente, nombre, apellido_1, apellido_2\n",
        "          from ventas\n",
        "\"\"\")\n",
        "clientes.createOrReplaceTempView(\"clientes\")\n",
        "clientes.show()"
      ],
      "metadata": {
        "colab": {
          "base_uri": "https://localhost:8080/"
        },
        "id": "8D3YL-swcYMB",
        "outputId": "1e90e9c9-7080-42e9-cbab-daf263e5edeb"
      },
      "execution_count": 37,
      "outputs": [
        {
          "output_type": "stream",
          "name": "stdout",
          "text": [
            "+---------------+---------+----------+----------+\n",
            "|     id_cliente|   nombre|apellido_1|apellido_2|\n",
            "+---------------+---------+----------+----------+\n",
            "| 80428676143833|  Dolores|    Cortés| Hernández|\n",
            "| 29193624811735|    Josep|     Calvo|    Crespo|\n",
            "|124469852051349| Atanasio|     Calvo|    Cortés|\n",
            "| 31741117385487| Fernando|      Díez|      Mora|\n",
            "|604051495291342|  Leoncio|    Torres|      Díez|\n",
            "|731814709223377|   Matías|     Durán|    Pastor|\n",
            "| 40724899055494|     Marc|      Sáez|     Arias|\n",
            "|163647970819336|Alejandro|   Velasco|    Prieto|\n",
            "|922460409347428|     Tito|  Castillo|     Román|\n",
            "|308528434681532|   Raquel|      Sáez|     Pérez|\n",
            "|608704101743155|  Vicenta|   Pascual|     Núñez|\n",
            "|421713320345231|  Soledad|   Carmona|      Soto|\n",
            "|495319712613149|Adalberto|   Fuentes|    Santos|\n",
            "|707278997709905|Magdalena|   Ramírez|   Velasco|\n",
            "|571062507452369|    Pilar|    Ibáñez|      Sáez|\n",
            "|273047001510411|     #N/D|   Herrero|      Cruz|\n",
            "| 81360272849621| Abelardo|    Ibáñez|   Velasco|\n",
            "|631637029412982|    Luisa|      Peña|     Blesa|\n",
            "|866059762713731|  Ernesto|    Santos|    Blanco|\n",
            "|743832060634887|   Alonso|     Ortiz|     Calvo|\n",
            "+---------------+---------+----------+----------+\n",
            "only showing top 20 rows\n",
            "\n"
          ]
        }
      ]
    },
    {
      "cell_type": "markdown",
      "source": [
        "Explanation:\n",
        "\n",
        "*   A SQL query selects distinct id_cliente, nombre, apellido_1, and apellido_2 from the ventas view.\n",
        "*   This DataFrame is registered as a temporary view named clientes\n",
        "*   The results are grouped and ordered by year, month, and material, and then displayed."
      ],
      "metadata": {
        "id": "-Wmh581XmFdH"
      }
    },
    {
      "cell_type": "code",
      "source": [
        "ventas_cliente = spark.sql(\"\"\"\n",
        "          select date_part('year', fecha) as anyo, date_part('month', fecha) as mes, id_cliente, sum(precio) as importe\n",
        "          from ventas\n",
        "          where id_cliente <> '#N/D'\n",
        "          group by 1,2,3\n",
        "          order by 1,2,3\n",
        "\"\"\")\n",
        "ventas_cliente.createOrReplaceTempView(\"ventas_cliente\")\n",
        "ventas_cliente.show()"
      ],
      "metadata": {
        "colab": {
          "base_uri": "https://localhost:8080/"
        },
        "id": "5DWIAX7YdN5o",
        "outputId": "a9a16d2e-322a-4755-efad-701317c9486a"
      },
      "execution_count": 41,
      "outputs": [
        {
          "output_type": "stream",
          "name": "stdout",
          "text": [
            "+----+---+---------------+-------+\n",
            "|anyo|mes|     id_cliente|importe|\n",
            "+----+---+---------------+-------+\n",
            "|2018| 12|731814709223377|     30|\n",
            "|2019|  1|100434974821163|   1125|\n",
            "|2019|  1|100609367711644|    925|\n",
            "|2019|  1|101222940698139|   1080|\n",
            "|2019|  1|101336235770802|   1135|\n",
            "|2019|  1| 10225677955338|    680|\n",
            "|2019|  1|102639691840435|   1005|\n",
            "|2019|  1|103340889464728|    500|\n",
            "|2019|  1|103574152138567|    495|\n",
            "|2019|  1|104296523397751|   1040|\n",
            "|2019|  1|104419325532001|    915|\n",
            "|2019|  1|104881179041071|    670|\n",
            "|2019|  1|104969260310593|    470|\n",
            "|2019|  1|  1052752142170|   1150|\n",
            "|2019|  1|105982744315977|   1140|\n",
            "|2019|  1|106022545467425|    920|\n",
            "|2019|  1|106168163816287|    790|\n",
            "|2019|  1|106227527630542|    990|\n",
            "|2019|  1|106342931776064|    600|\n",
            "|2019|  1|106417570310974|    765|\n",
            "+----+---+---------------+-------+\n",
            "only showing top 20 rows\n",
            "\n"
          ]
        }
      ]
    },
    {
      "cell_type": "markdown",
      "source": [
        "Explanation:\n",
        "\n",
        "*   A SQL query selects distinct id_cliente, nombre, apellido_1, and apellido_2 from the ventas view.\n",
        "*   This DataFrame is registered as a temporary view named clientes\n",
        "*   The results are grouped and ordered by year, month, and id_cliente, and then displayed."
      ],
      "metadata": {
        "id": "FCxdaGCNmQG2"
      }
    },
    {
      "cell_type": "code",
      "source": [
        "clientes.repartition(1). write.format(\"com.databricks.spark.csv\").option(\"header\", \"true\").option(\"sep\", \";\").mode(\"overwrite\").save(\"/content/drive/My Drive/Colab Notebooks/DATA/datamart_clientes.csv\")\n",
        "ventas_cliente.repartition(1). write.format(\"com.databricks.spark.csv\").option(\"header\", \"true\").option(\"sep\", \";\").mode(\"overwrite\").save(\"/content/drive/My Drive/Colab Notebooks/DATA/datamart_ventas_cliente.csv\")\n",
        "\n",
        "#clientes\n",
        "spark.read.csv('/content/drive/My Drive/Colab Notebooks/DATA/datamart_clientes.csv', header=True, inferSchema=True, sep=';').createOrReplaceTempView(\"datamart_clientes\")\n",
        "spark.sql(\"SELECT * FROM datamart_clientes limit 5 \").show()\n",
        "#ventas_cliente\n",
        "spark.read.csv('/content/drive/My Drive/Colab Notebooks/DATA/datamart_ventas_cliente.csv', header=True, inferSchema=True, sep=';').createOrReplaceTempView(\"datamart_ventas_cliente\")\n",
        "spark.sql(\"SELECT * FROM datamart_ventas_cliente limit 5\").show()\n"
      ],
      "metadata": {
        "colab": {
          "base_uri": "https://localhost:8080/"
        },
        "id": "mzGrL5uSc9Xl",
        "outputId": "92ec6aea-7d1e-4dd8-8a2a-f28abc5b7a8d"
      },
      "execution_count": 43,
      "outputs": [
        {
          "output_type": "stream",
          "name": "stdout",
          "text": [
            "+---------------+--------+----------+----------+\n",
            "|     id_cliente|  nombre|apellido_1|apellido_2|\n",
            "+---------------+--------+----------+----------+\n",
            "| 80428676143833| Dolores|    Cortés| Hernández|\n",
            "| 29193624811735|   Josep|     Calvo|    Crespo|\n",
            "|124469852051349|Atanasio|     Calvo|    Cortés|\n",
            "| 31741117385487|Fernando|      Díez|      Mora|\n",
            "|604051495291342| Leoncio|    Torres|      Díez|\n",
            "+---------------+--------+----------+----------+\n",
            "\n",
            "+----+---+---------------+-------+\n",
            "|anyo|mes|     id_cliente|importe|\n",
            "+----+---+---------------+-------+\n",
            "|2018| 12|731814709223377|     30|\n",
            "|2019|  1|100434974821163|   1125|\n",
            "|2019|  1|100609367711644|    925|\n",
            "|2019|  1|101222940698139|   1080|\n",
            "|2019|  1|101336235770802|   1135|\n",
            "+----+---+---------------+-------+\n",
            "\n"
          ]
        }
      ]
    },
    {
      "cell_type": "markdown",
      "source": [
        "Explanation:\n",
        "\n",
        "*   The clientes and ventas_cliente DataFrames are saved as CSV files to Google Drive with headers and semicolons as separators, overwriting any existing files.\n",
        "*   The saved CSV files datamart_clientes.csv and datamart_ventas_cliente.csv are read back into Spark DataFrames and registered as temporary views.\n",
        "*   SQL queries display the first 5 rows of each view to verify the data."
      ],
      "metadata": {
        "id": "xOiA31KbmRz-"
      }
    },
    {
      "cell_type": "markdown",
      "source": [
        "Total de ventas por cliente y mes"
      ],
      "metadata": {
        "id": "f40WNSdNfXcI"
      }
    },
    {
      "cell_type": "code",
      "source": [
        "spark.sql(\"\"\"\n",
        "          select vc.anyo, vc.mes, vc.id_cliente, c.nombre, c.apellido_1, c.apellido_2, sum(vc.importe) as importe\n",
        "          from ventas_cliente vc\n",
        "          join clientes c on c.id_cliente=vc.id_cliente\n",
        "          group by 1,2,3,4,5,6\n",
        "          order by 1,2,3\n",
        "\"\"\").show()"
      ],
      "metadata": {
        "colab": {
          "base_uri": "https://localhost:8080/"
        },
        "id": "19XJ6CttfBPf",
        "outputId": "373382e5-9324-4401-e923-d30d004f1fa8"
      },
      "execution_count": 44,
      "outputs": [
        {
          "output_type": "stream",
          "name": "stdout",
          "text": [
            "+----+---+---------------+----------+----------+----------+-------+\n",
            "|anyo|mes|     id_cliente|    nombre|apellido_1|apellido_2|importe|\n",
            "+----+---+---------------+----------+----------+----------+-------+\n",
            "|2018| 12|731814709223377|    Matías|     Durán|    Pastor|     30|\n",
            "|2019|  1|100434974821163|    Zaqueo| Gutiérrez|   Álvarez|   1125|\n",
            "|2019|  1|100609367711644|   Teodora|   Pascual|   Fuentes|    925|\n",
            "|2019|  1|101222940698139|   Matilde|   Carmona|      Ruiz|   1080|\n",
            "|2019|  1|101336235770802|  Ifigenia|   Vázquez| Domínguez|   1135|\n",
            "|2019|  1| 10225677955338|  Josefina|    Méndez|    Vargas|    680|\n",
            "|2019|  1|102639691840435|     Ester|   Sánchez|     Román|   1005|\n",
            "|2019|  1|103340889464728|  Heraclio|       Rey|    Medina|    500|\n",
            "|2019|  1|103574152138567|    Acacio|    Cortés|    Flores|    495|\n",
            "|2019|  1|104296523397751|   Jacinto|    Ferrer|  Santiago|   1040|\n",
            "|2019|  1|104419325532001| Fulgencio|      Sáez|      Vega|    915|\n",
            "|2019|  1|104881179041071|      Olga|     Ortiz|   Lorenzo|    670|\n",
            "|2019|  1|104969260310593|  Carolina|    Romero|    Molina|    470|\n",
            "|2019|  1|  1052752142170|   Ruperto| Gutiérrez|      Moya|   1150|\n",
            "|2019|  1|105982744315977|  Adelaida|      León|   Herrera|   1140|\n",
            "|2019|  1|106022545467425|Hildegarda|   Gallego|     Bravo|    920|\n",
            "|2019|  1|106168163816287|   Benigno|   Esteban|    Cortés|    790|\n",
            "|2019|  1|106227527630542|  Severino|  Castillo|     Muñoz|    990|\n",
            "|2019|  1|106342931776064|    Guzmán|  Guerrero|    Moreno|    600|\n",
            "|2019|  1|106417570310974|     Fabio|   Vicente|   Benítez|    765|\n",
            "+----+---+---------------+----------+----------+----------+-------+\n",
            "only showing top 20 rows\n",
            "\n"
          ]
        }
      ]
    },
    {
      "cell_type": "markdown",
      "source": [
        "Explanation:\n",
        "\n",
        "*   A SQL query aggregates sales (importe) by year, month, and client ID.\n",
        "*   The query joins ventas_cliente with clientes to include client details.\n",
        "*   The results are grouped and ordered by year, month, and client ID, displaying the aggregated sales for each client per year and month."
      ],
      "metadata": {
        "id": "nZoWynnbmkg-"
      }
    },
    {
      "cell_type": "markdown",
      "source": [
        "Total de ventas por cliente cuyo nombre es gloria"
      ],
      "metadata": {
        "id": "3H4X2YiLgd8u"
      }
    },
    {
      "cell_type": "code",
      "source": [
        "spark.sql(\"\"\"\n",
        "    SELECT vc.id_cliente, c.nombre, c.apellido_1, c.apellido_2, SUM(vc.importe) AS importe\n",
        "    FROM ventas_cliente vc\n",
        "    JOIN clientes c ON c.id_cliente = vc.id_cliente\n",
        "    WHERE c.nombre = 'Gloria'\n",
        "    GROUP BY vc.id_cliente, c.nombre, c.apellido_1, c.apellido_2\n",
        "    ORDER BY vc.id_cliente\n",
        "\"\"\").show()\n"
      ],
      "metadata": {
        "colab": {
          "base_uri": "https://localhost:8080/"
        },
        "id": "ZAvUy4k3gMr-",
        "outputId": "3428bd9b-336d-4c25-a9d0-bb3fe97980e7"
      },
      "execution_count": 51,
      "outputs": [
        {
          "output_type": "stream",
          "name": "stdout",
          "text": [
            "+---------------+------+----------+----------+-------+\n",
            "|     id_cliente|nombre|apellido_1|apellido_2|importe|\n",
            "+---------------+------+----------+----------+-------+\n",
            "|112173292754148|Gloria|    Romero|    Pastor|  27660|\n",
            "|151275648428666|Gloria|    Castro|     Román|  29490|\n",
            "|392580240294815|Gloria|    Suárez|       Rey|  29420|\n",
            "|543508035906917|Gloria|  Martínez|   Hidalgo|  26215|\n",
            "|802750163317303|Gloria|       Rey| Fernández|  29010|\n",
            "+---------------+------+----------+----------+-------+\n",
            "\n"
          ]
        }
      ]
    },
    {
      "cell_type": "markdown",
      "source": [
        "Explanation:\n",
        "\n",
        "*   A SQL query aggregates sales (importe) for clients named \"Gloria\".\n",
        "*   The query joins ventas_cliente with clientes to include client details.\n",
        "*   The results are grouped by client ID and client details, displaying the aggregated sales for each client named \"Gloria\"."
      ],
      "metadata": {
        "id": "e_NVZwYjm8aI"
      }
    },
    {
      "cell_type": "code",
      "source": [],
      "metadata": {
        "id": "97j8rCHjhsRm"
      },
      "execution_count": null,
      "outputs": []
    }
  ]
}